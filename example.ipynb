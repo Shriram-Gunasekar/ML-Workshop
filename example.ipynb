{
  "nbformat": 4,
  "nbformat_minor": 0,
  "metadata": {
    "colab": {
      "provenance": []
    },
    "kernelspec": {
      "name": "python3",
      "display_name": "Python 3"
    },
    "language_info": {
      "name": "python"
    }
  },
  "cells": [
    {
      "cell_type": "markdown",
      "source": [
        "# Connect To Drive"
      ],
      "metadata": {
        "id": "UEoIZgMwb9zP"
      }
    },
    {
      "cell_type": "code",
      "execution_count": 27,
      "metadata": {
        "colab": {
          "base_uri": "https://localhost:8080/"
        },
        "id": "zk7FG80mb55T",
        "outputId": "1fb8effd-62e9-4c56-b194-20ca77b6934d"
      },
      "outputs": [
        {
          "output_type": "stream",
          "name": "stdout",
          "text": [
            "Drive already mounted at /content/drive; to attempt to forcibly remount, call drive.mount(\"/content/drive\", force_remount=True).\n"
          ]
        }
      ],
      "source": [
        "from google.colab import drive\n",
        "drive.mount('/content/drive')"
      ]
    },
    {
      "cell_type": "markdown",
      "source": [
        "# Imports"
      ],
      "metadata": {
        "id": "fX_u3aaVcCie"
      }
    },
    {
      "cell_type": "code",
      "source": [
        "import numpy as np\n",
        "import matplotlib.pyplot as plt\n",
        "import pandas as pd\n",
        "from sklearn.model_selection import train_test_split\n",
        "from sklearn.impute import SimpleImputer\n",
        "from sklearn.preprocessing import StandardScaler, MaxAbsScaler, MinMaxScaler, RobustScaler, PowerTransformer, PolynomialFeatures\n",
        "from sklearn.cluster import KMeans\n",
        "from sklearn.neighbors import KNeighborsClassifier\n",
        "from sklearn.svm import SVC\n",
        "from sklearn.tree import DecisionTreeClassifier\n",
        "from sklearn.ensemble import RandomForestClassifier\n",
        "from sklearn.linear_model import LogisticRegression\n",
        "from sklearn.decomposition import PCA\n",
        "from sklearn.metrics import accuracy_score, f1_score, recall_score, precision_score, classification_report"
      ],
      "metadata": {
        "id": "aNNqNdIxcbvv"
      },
      "execution_count": 28,
      "outputs": []
    },
    {
      "cell_type": "markdown",
      "source": [
        "# Load Data"
      ],
      "metadata": {
        "id": "XfDG1__ZcArN"
      }
    },
    {
      "cell_type": "code",
      "source": [
        "data = pd.read_csv('/content/drive/MyDrive/colabdata/train.csv')"
      ],
      "metadata": {
        "id": "lfa8ISl8ciC3"
      },
      "execution_count": 29,
      "outputs": []
    },
    {
      "cell_type": "code",
      "source": [
        "data.head()"
      ],
      "metadata": {
        "colab": {
          "base_uri": "https://localhost:8080/",
          "height": 299
        },
        "id": "vk3vNt-wc3IG",
        "outputId": "d9ceb1c5-4a5e-43c3-f1c2-bd2807b6cbd0"
      },
      "execution_count": 30,
      "outputs": [
        {
          "output_type": "execute_result",
          "data": {
            "text/plain": [
              "             Id        AB          AF          AH         AM        AR  \\\n",
              "0  000ff2bfdfe9  0.209377  3109.03329   85.200147  22.394407  8.138688   \n",
              "1  007255e47698  0.145282   978.76416   85.200147  36.968889  8.138688   \n",
              "2  013f2bd269f5  0.470030  2635.10654   85.200147  32.360553  8.138688   \n",
              "3  043ac50845d5  0.252107  3819.65177  120.201618  77.112203  8.138688   \n",
              "4  044fb8a146ec  0.380297  3733.04844   85.200147  14.103738  8.138688   \n",
              "\n",
              "         AX        AY         AZ          BC  ...        FL        FR  \\\n",
              "0  0.699861  0.025578   9.812214    5.555634  ...  7.298162   1.73855   \n",
              "1  3.632190  0.025578  13.517790    1.229900  ...  0.173229   0.49706   \n",
              "2  6.732840  0.025578  12.824570    1.229900  ...  7.709560   0.97556   \n",
              "3  3.685344  0.025578  11.053708    1.229900  ...  6.122162   0.49706   \n",
              "4  3.942255  0.054810   3.396778  102.151980  ...  8.153058  48.50134   \n",
              "\n",
              "         FS         GB          GE            GF         GH         GI  \\\n",
              "0  0.094822  11.339138   72.611063   2003.810319  22.136229  69.834944   \n",
              "1  0.568932   9.292698   72.611063  27981.562750  29.135430  32.131996   \n",
              "2  1.198821  37.077772   88.609437  13676.957810  28.022851  35.192676   \n",
              "3  0.284466  18.529584   82.416803   2094.262452  39.948656  90.493248   \n",
              "4  0.121914  16.408728  146.109943   8524.370502  45.381316  36.262628   \n",
              "\n",
              "          GL  Class  \n",
              "0   0.120343      1  \n",
              "1  21.978000      0  \n",
              "2   0.196941      0  \n",
              "3   0.155829      0  \n",
              "4   0.096614      1  \n",
              "\n",
              "[5 rows x 58 columns]"
            ],
            "text/html": [
              "\n",
              "  <div id=\"df-8e9079c5-d99a-4014-b453-3a5b85c13671\">\n",
              "    <div class=\"colab-df-container\">\n",
              "      <div>\n",
              "<style scoped>\n",
              "    .dataframe tbody tr th:only-of-type {\n",
              "        vertical-align: middle;\n",
              "    }\n",
              "\n",
              "    .dataframe tbody tr th {\n",
              "        vertical-align: top;\n",
              "    }\n",
              "\n",
              "    .dataframe thead th {\n",
              "        text-align: right;\n",
              "    }\n",
              "</style>\n",
              "<table border=\"1\" class=\"dataframe\">\n",
              "  <thead>\n",
              "    <tr style=\"text-align: right;\">\n",
              "      <th></th>\n",
              "      <th>Id</th>\n",
              "      <th>AB</th>\n",
              "      <th>AF</th>\n",
              "      <th>AH</th>\n",
              "      <th>AM</th>\n",
              "      <th>AR</th>\n",
              "      <th>AX</th>\n",
              "      <th>AY</th>\n",
              "      <th>AZ</th>\n",
              "      <th>BC</th>\n",
              "      <th>...</th>\n",
              "      <th>FL</th>\n",
              "      <th>FR</th>\n",
              "      <th>FS</th>\n",
              "      <th>GB</th>\n",
              "      <th>GE</th>\n",
              "      <th>GF</th>\n",
              "      <th>GH</th>\n",
              "      <th>GI</th>\n",
              "      <th>GL</th>\n",
              "      <th>Class</th>\n",
              "    </tr>\n",
              "  </thead>\n",
              "  <tbody>\n",
              "    <tr>\n",
              "      <th>0</th>\n",
              "      <td>000ff2bfdfe9</td>\n",
              "      <td>0.209377</td>\n",
              "      <td>3109.03329</td>\n",
              "      <td>85.200147</td>\n",
              "      <td>22.394407</td>\n",
              "      <td>8.138688</td>\n",
              "      <td>0.699861</td>\n",
              "      <td>0.025578</td>\n",
              "      <td>9.812214</td>\n",
              "      <td>5.555634</td>\n",
              "      <td>...</td>\n",
              "      <td>7.298162</td>\n",
              "      <td>1.73855</td>\n",
              "      <td>0.094822</td>\n",
              "      <td>11.339138</td>\n",
              "      <td>72.611063</td>\n",
              "      <td>2003.810319</td>\n",
              "      <td>22.136229</td>\n",
              "      <td>69.834944</td>\n",
              "      <td>0.120343</td>\n",
              "      <td>1</td>\n",
              "    </tr>\n",
              "    <tr>\n",
              "      <th>1</th>\n",
              "      <td>007255e47698</td>\n",
              "      <td>0.145282</td>\n",
              "      <td>978.76416</td>\n",
              "      <td>85.200147</td>\n",
              "      <td>36.968889</td>\n",
              "      <td>8.138688</td>\n",
              "      <td>3.632190</td>\n",
              "      <td>0.025578</td>\n",
              "      <td>13.517790</td>\n",
              "      <td>1.229900</td>\n",
              "      <td>...</td>\n",
              "      <td>0.173229</td>\n",
              "      <td>0.49706</td>\n",
              "      <td>0.568932</td>\n",
              "      <td>9.292698</td>\n",
              "      <td>72.611063</td>\n",
              "      <td>27981.562750</td>\n",
              "      <td>29.135430</td>\n",
              "      <td>32.131996</td>\n",
              "      <td>21.978000</td>\n",
              "      <td>0</td>\n",
              "    </tr>\n",
              "    <tr>\n",
              "      <th>2</th>\n",
              "      <td>013f2bd269f5</td>\n",
              "      <td>0.470030</td>\n",
              "      <td>2635.10654</td>\n",
              "      <td>85.200147</td>\n",
              "      <td>32.360553</td>\n",
              "      <td>8.138688</td>\n",
              "      <td>6.732840</td>\n",
              "      <td>0.025578</td>\n",
              "      <td>12.824570</td>\n",
              "      <td>1.229900</td>\n",
              "      <td>...</td>\n",
              "      <td>7.709560</td>\n",
              "      <td>0.97556</td>\n",
              "      <td>1.198821</td>\n",
              "      <td>37.077772</td>\n",
              "      <td>88.609437</td>\n",
              "      <td>13676.957810</td>\n",
              "      <td>28.022851</td>\n",
              "      <td>35.192676</td>\n",
              "      <td>0.196941</td>\n",
              "      <td>0</td>\n",
              "    </tr>\n",
              "    <tr>\n",
              "      <th>3</th>\n",
              "      <td>043ac50845d5</td>\n",
              "      <td>0.252107</td>\n",
              "      <td>3819.65177</td>\n",
              "      <td>120.201618</td>\n",
              "      <td>77.112203</td>\n",
              "      <td>8.138688</td>\n",
              "      <td>3.685344</td>\n",
              "      <td>0.025578</td>\n",
              "      <td>11.053708</td>\n",
              "      <td>1.229900</td>\n",
              "      <td>...</td>\n",
              "      <td>6.122162</td>\n",
              "      <td>0.49706</td>\n",
              "      <td>0.284466</td>\n",
              "      <td>18.529584</td>\n",
              "      <td>82.416803</td>\n",
              "      <td>2094.262452</td>\n",
              "      <td>39.948656</td>\n",
              "      <td>90.493248</td>\n",
              "      <td>0.155829</td>\n",
              "      <td>0</td>\n",
              "    </tr>\n",
              "    <tr>\n",
              "      <th>4</th>\n",
              "      <td>044fb8a146ec</td>\n",
              "      <td>0.380297</td>\n",
              "      <td>3733.04844</td>\n",
              "      <td>85.200147</td>\n",
              "      <td>14.103738</td>\n",
              "      <td>8.138688</td>\n",
              "      <td>3.942255</td>\n",
              "      <td>0.054810</td>\n",
              "      <td>3.396778</td>\n",
              "      <td>102.151980</td>\n",
              "      <td>...</td>\n",
              "      <td>8.153058</td>\n",
              "      <td>48.50134</td>\n",
              "      <td>0.121914</td>\n",
              "      <td>16.408728</td>\n",
              "      <td>146.109943</td>\n",
              "      <td>8524.370502</td>\n",
              "      <td>45.381316</td>\n",
              "      <td>36.262628</td>\n",
              "      <td>0.096614</td>\n",
              "      <td>1</td>\n",
              "    </tr>\n",
              "  </tbody>\n",
              "</table>\n",
              "<p>5 rows × 58 columns</p>\n",
              "</div>\n",
              "      <button class=\"colab-df-convert\" onclick=\"convertToInteractive('df-8e9079c5-d99a-4014-b453-3a5b85c13671')\"\n",
              "              title=\"Convert this dataframe to an interactive table.\"\n",
              "              style=\"display:none;\">\n",
              "        \n",
              "  <svg xmlns=\"http://www.w3.org/2000/svg\" height=\"24px\"viewBox=\"0 0 24 24\"\n",
              "       width=\"24px\">\n",
              "    <path d=\"M0 0h24v24H0V0z\" fill=\"none\"/>\n",
              "    <path d=\"M18.56 5.44l.94 2.06.94-2.06 2.06-.94-2.06-.94-.94-2.06-.94 2.06-2.06.94zm-11 1L8.5 8.5l.94-2.06 2.06-.94-2.06-.94L8.5 2.5l-.94 2.06-2.06.94zm10 10l.94 2.06.94-2.06 2.06-.94-2.06-.94-.94-2.06-.94 2.06-2.06.94z\"/><path d=\"M17.41 7.96l-1.37-1.37c-.4-.4-.92-.59-1.43-.59-.52 0-1.04.2-1.43.59L10.3 9.45l-7.72 7.72c-.78.78-.78 2.05 0 2.83L4 21.41c.39.39.9.59 1.41.59.51 0 1.02-.2 1.41-.59l7.78-7.78 2.81-2.81c.8-.78.8-2.07 0-2.86zM5.41 20L4 18.59l7.72-7.72 1.47 1.35L5.41 20z\"/>\n",
              "  </svg>\n",
              "      </button>\n",
              "      \n",
              "  <style>\n",
              "    .colab-df-container {\n",
              "      display:flex;\n",
              "      flex-wrap:wrap;\n",
              "      gap: 12px;\n",
              "    }\n",
              "\n",
              "    .colab-df-convert {\n",
              "      background-color: #E8F0FE;\n",
              "      border: none;\n",
              "      border-radius: 50%;\n",
              "      cursor: pointer;\n",
              "      display: none;\n",
              "      fill: #1967D2;\n",
              "      height: 32px;\n",
              "      padding: 0 0 0 0;\n",
              "      width: 32px;\n",
              "    }\n",
              "\n",
              "    .colab-df-convert:hover {\n",
              "      background-color: #E2EBFA;\n",
              "      box-shadow: 0px 1px 2px rgba(60, 64, 67, 0.3), 0px 1px 3px 1px rgba(60, 64, 67, 0.15);\n",
              "      fill: #174EA6;\n",
              "    }\n",
              "\n",
              "    [theme=dark] .colab-df-convert {\n",
              "      background-color: #3B4455;\n",
              "      fill: #D2E3FC;\n",
              "    }\n",
              "\n",
              "    [theme=dark] .colab-df-convert:hover {\n",
              "      background-color: #434B5C;\n",
              "      box-shadow: 0px 1px 3px 1px rgba(0, 0, 0, 0.15);\n",
              "      filter: drop-shadow(0px 1px 2px rgba(0, 0, 0, 0.3));\n",
              "      fill: #FFFFFF;\n",
              "    }\n",
              "  </style>\n",
              "\n",
              "      <script>\n",
              "        const buttonEl =\n",
              "          document.querySelector('#df-8e9079c5-d99a-4014-b453-3a5b85c13671 button.colab-df-convert');\n",
              "        buttonEl.style.display =\n",
              "          google.colab.kernel.accessAllowed ? 'block' : 'none';\n",
              "\n",
              "        async function convertToInteractive(key) {\n",
              "          const element = document.querySelector('#df-8e9079c5-d99a-4014-b453-3a5b85c13671');\n",
              "          const dataTable =\n",
              "            await google.colab.kernel.invokeFunction('convertToInteractive',\n",
              "                                                     [key], {});\n",
              "          if (!dataTable) return;\n",
              "\n",
              "          const docLinkHtml = 'Like what you see? Visit the ' +\n",
              "            '<a target=\"_blank\" href=https://colab.research.google.com/notebooks/data_table.ipynb>data table notebook</a>'\n",
              "            + ' to learn more about interactive tables.';\n",
              "          element.innerHTML = '';\n",
              "          dataTable['output_type'] = 'display_data';\n",
              "          await google.colab.output.renderOutput(dataTable, element);\n",
              "          const docLink = document.createElement('div');\n",
              "          docLink.innerHTML = docLinkHtml;\n",
              "          element.appendChild(docLink);\n",
              "        }\n",
              "      </script>\n",
              "    </div>\n",
              "  </div>\n",
              "  "
            ]
          },
          "metadata": {},
          "execution_count": 30
        }
      ]
    },
    {
      "cell_type": "code",
      "source": [
        "X = data.drop(['Id','Class'],axis=1)"
      ],
      "metadata": {
        "id": "39sojU0zc8RC"
      },
      "execution_count": 31,
      "outputs": []
    },
    {
      "cell_type": "code",
      "source": [
        "X.head()"
      ],
      "metadata": {
        "colab": {
          "base_uri": "https://localhost:8080/",
          "height": 299
        },
        "id": "-ba_uTiwdHvI",
        "outputId": "2a08f208-12ac-4d49-ca52-535a08783316"
      },
      "execution_count": 32,
      "outputs": [
        {
          "output_type": "execute_result",
          "data": {
            "text/plain": [
              "         AB          AF          AH         AM        AR        AX        AY  \\\n",
              "0  0.209377  3109.03329   85.200147  22.394407  8.138688  0.699861  0.025578   \n",
              "1  0.145282   978.76416   85.200147  36.968889  8.138688  3.632190  0.025578   \n",
              "2  0.470030  2635.10654   85.200147  32.360553  8.138688  6.732840  0.025578   \n",
              "3  0.252107  3819.65177  120.201618  77.112203  8.138688  3.685344  0.025578   \n",
              "4  0.380297  3733.04844   85.200147  14.103738  8.138688  3.942255  0.054810   \n",
              "\n",
              "          AZ          BC         BD   ...         FI        FL        FR  \\\n",
              "0   9.812214    5.555634  4126.58731  ...   3.583450  7.298162   1.73855   \n",
              "1  13.517790    1.229900  5496.92824  ...  10.358927  0.173229   0.49706   \n",
              "2  12.824570    1.229900  5135.78024  ...  11.626917  7.709560   0.97556   \n",
              "3  11.053708    1.229900  4169.67738  ...  14.852022  6.122162   0.49706   \n",
              "4   3.396778  102.151980  5728.73412  ...  13.666727  8.153058  48.50134   \n",
              "\n",
              "         FS         GB          GE            GF         GH         GI  \\\n",
              "0  0.094822  11.339138   72.611063   2003.810319  22.136229  69.834944   \n",
              "1  0.568932   9.292698   72.611063  27981.562750  29.135430  32.131996   \n",
              "2  1.198821  37.077772   88.609437  13676.957810  28.022851  35.192676   \n",
              "3  0.284466  18.529584   82.416803   2094.262452  39.948656  90.493248   \n",
              "4  0.121914  16.408728  146.109943   8524.370502  45.381316  36.262628   \n",
              "\n",
              "          GL  \n",
              "0   0.120343  \n",
              "1  21.978000  \n",
              "2   0.196941  \n",
              "3   0.155829  \n",
              "4   0.096614  \n",
              "\n",
              "[5 rows x 56 columns]"
            ],
            "text/html": [
              "\n",
              "  <div id=\"df-cb6afa9f-9a7b-404f-aa9b-73af6a36ca7e\">\n",
              "    <div class=\"colab-df-container\">\n",
              "      <div>\n",
              "<style scoped>\n",
              "    .dataframe tbody tr th:only-of-type {\n",
              "        vertical-align: middle;\n",
              "    }\n",
              "\n",
              "    .dataframe tbody tr th {\n",
              "        vertical-align: top;\n",
              "    }\n",
              "\n",
              "    .dataframe thead th {\n",
              "        text-align: right;\n",
              "    }\n",
              "</style>\n",
              "<table border=\"1\" class=\"dataframe\">\n",
              "  <thead>\n",
              "    <tr style=\"text-align: right;\">\n",
              "      <th></th>\n",
              "      <th>AB</th>\n",
              "      <th>AF</th>\n",
              "      <th>AH</th>\n",
              "      <th>AM</th>\n",
              "      <th>AR</th>\n",
              "      <th>AX</th>\n",
              "      <th>AY</th>\n",
              "      <th>AZ</th>\n",
              "      <th>BC</th>\n",
              "      <th>BD</th>\n",
              "      <th>...</th>\n",
              "      <th>FI</th>\n",
              "      <th>FL</th>\n",
              "      <th>FR</th>\n",
              "      <th>FS</th>\n",
              "      <th>GB</th>\n",
              "      <th>GE</th>\n",
              "      <th>GF</th>\n",
              "      <th>GH</th>\n",
              "      <th>GI</th>\n",
              "      <th>GL</th>\n",
              "    </tr>\n",
              "  </thead>\n",
              "  <tbody>\n",
              "    <tr>\n",
              "      <th>0</th>\n",
              "      <td>0.209377</td>\n",
              "      <td>3109.03329</td>\n",
              "      <td>85.200147</td>\n",
              "      <td>22.394407</td>\n",
              "      <td>8.138688</td>\n",
              "      <td>0.699861</td>\n",
              "      <td>0.025578</td>\n",
              "      <td>9.812214</td>\n",
              "      <td>5.555634</td>\n",
              "      <td>4126.58731</td>\n",
              "      <td>...</td>\n",
              "      <td>3.583450</td>\n",
              "      <td>7.298162</td>\n",
              "      <td>1.73855</td>\n",
              "      <td>0.094822</td>\n",
              "      <td>11.339138</td>\n",
              "      <td>72.611063</td>\n",
              "      <td>2003.810319</td>\n",
              "      <td>22.136229</td>\n",
              "      <td>69.834944</td>\n",
              "      <td>0.120343</td>\n",
              "    </tr>\n",
              "    <tr>\n",
              "      <th>1</th>\n",
              "      <td>0.145282</td>\n",
              "      <td>978.76416</td>\n",
              "      <td>85.200147</td>\n",
              "      <td>36.968889</td>\n",
              "      <td>8.138688</td>\n",
              "      <td>3.632190</td>\n",
              "      <td>0.025578</td>\n",
              "      <td>13.517790</td>\n",
              "      <td>1.229900</td>\n",
              "      <td>5496.92824</td>\n",
              "      <td>...</td>\n",
              "      <td>10.358927</td>\n",
              "      <td>0.173229</td>\n",
              "      <td>0.49706</td>\n",
              "      <td>0.568932</td>\n",
              "      <td>9.292698</td>\n",
              "      <td>72.611063</td>\n",
              "      <td>27981.562750</td>\n",
              "      <td>29.135430</td>\n",
              "      <td>32.131996</td>\n",
              "      <td>21.978000</td>\n",
              "    </tr>\n",
              "    <tr>\n",
              "      <th>2</th>\n",
              "      <td>0.470030</td>\n",
              "      <td>2635.10654</td>\n",
              "      <td>85.200147</td>\n",
              "      <td>32.360553</td>\n",
              "      <td>8.138688</td>\n",
              "      <td>6.732840</td>\n",
              "      <td>0.025578</td>\n",
              "      <td>12.824570</td>\n",
              "      <td>1.229900</td>\n",
              "      <td>5135.78024</td>\n",
              "      <td>...</td>\n",
              "      <td>11.626917</td>\n",
              "      <td>7.709560</td>\n",
              "      <td>0.97556</td>\n",
              "      <td>1.198821</td>\n",
              "      <td>37.077772</td>\n",
              "      <td>88.609437</td>\n",
              "      <td>13676.957810</td>\n",
              "      <td>28.022851</td>\n",
              "      <td>35.192676</td>\n",
              "      <td>0.196941</td>\n",
              "    </tr>\n",
              "    <tr>\n",
              "      <th>3</th>\n",
              "      <td>0.252107</td>\n",
              "      <td>3819.65177</td>\n",
              "      <td>120.201618</td>\n",
              "      <td>77.112203</td>\n",
              "      <td>8.138688</td>\n",
              "      <td>3.685344</td>\n",
              "      <td>0.025578</td>\n",
              "      <td>11.053708</td>\n",
              "      <td>1.229900</td>\n",
              "      <td>4169.67738</td>\n",
              "      <td>...</td>\n",
              "      <td>14.852022</td>\n",
              "      <td>6.122162</td>\n",
              "      <td>0.49706</td>\n",
              "      <td>0.284466</td>\n",
              "      <td>18.529584</td>\n",
              "      <td>82.416803</td>\n",
              "      <td>2094.262452</td>\n",
              "      <td>39.948656</td>\n",
              "      <td>90.493248</td>\n",
              "      <td>0.155829</td>\n",
              "    </tr>\n",
              "    <tr>\n",
              "      <th>4</th>\n",
              "      <td>0.380297</td>\n",
              "      <td>3733.04844</td>\n",
              "      <td>85.200147</td>\n",
              "      <td>14.103738</td>\n",
              "      <td>8.138688</td>\n",
              "      <td>3.942255</td>\n",
              "      <td>0.054810</td>\n",
              "      <td>3.396778</td>\n",
              "      <td>102.151980</td>\n",
              "      <td>5728.73412</td>\n",
              "      <td>...</td>\n",
              "      <td>13.666727</td>\n",
              "      <td>8.153058</td>\n",
              "      <td>48.50134</td>\n",
              "      <td>0.121914</td>\n",
              "      <td>16.408728</td>\n",
              "      <td>146.109943</td>\n",
              "      <td>8524.370502</td>\n",
              "      <td>45.381316</td>\n",
              "      <td>36.262628</td>\n",
              "      <td>0.096614</td>\n",
              "    </tr>\n",
              "  </tbody>\n",
              "</table>\n",
              "<p>5 rows × 56 columns</p>\n",
              "</div>\n",
              "      <button class=\"colab-df-convert\" onclick=\"convertToInteractive('df-cb6afa9f-9a7b-404f-aa9b-73af6a36ca7e')\"\n",
              "              title=\"Convert this dataframe to an interactive table.\"\n",
              "              style=\"display:none;\">\n",
              "        \n",
              "  <svg xmlns=\"http://www.w3.org/2000/svg\" height=\"24px\"viewBox=\"0 0 24 24\"\n",
              "       width=\"24px\">\n",
              "    <path d=\"M0 0h24v24H0V0z\" fill=\"none\"/>\n",
              "    <path d=\"M18.56 5.44l.94 2.06.94-2.06 2.06-.94-2.06-.94-.94-2.06-.94 2.06-2.06.94zm-11 1L8.5 8.5l.94-2.06 2.06-.94-2.06-.94L8.5 2.5l-.94 2.06-2.06.94zm10 10l.94 2.06.94-2.06 2.06-.94-2.06-.94-.94-2.06-.94 2.06-2.06.94z\"/><path d=\"M17.41 7.96l-1.37-1.37c-.4-.4-.92-.59-1.43-.59-.52 0-1.04.2-1.43.59L10.3 9.45l-7.72 7.72c-.78.78-.78 2.05 0 2.83L4 21.41c.39.39.9.59 1.41.59.51 0 1.02-.2 1.41-.59l7.78-7.78 2.81-2.81c.8-.78.8-2.07 0-2.86zM5.41 20L4 18.59l7.72-7.72 1.47 1.35L5.41 20z\"/>\n",
              "  </svg>\n",
              "      </button>\n",
              "      \n",
              "  <style>\n",
              "    .colab-df-container {\n",
              "      display:flex;\n",
              "      flex-wrap:wrap;\n",
              "      gap: 12px;\n",
              "    }\n",
              "\n",
              "    .colab-df-convert {\n",
              "      background-color: #E8F0FE;\n",
              "      border: none;\n",
              "      border-radius: 50%;\n",
              "      cursor: pointer;\n",
              "      display: none;\n",
              "      fill: #1967D2;\n",
              "      height: 32px;\n",
              "      padding: 0 0 0 0;\n",
              "      width: 32px;\n",
              "    }\n",
              "\n",
              "    .colab-df-convert:hover {\n",
              "      background-color: #E2EBFA;\n",
              "      box-shadow: 0px 1px 2px rgba(60, 64, 67, 0.3), 0px 1px 3px 1px rgba(60, 64, 67, 0.15);\n",
              "      fill: #174EA6;\n",
              "    }\n",
              "\n",
              "    [theme=dark] .colab-df-convert {\n",
              "      background-color: #3B4455;\n",
              "      fill: #D2E3FC;\n",
              "    }\n",
              "\n",
              "    [theme=dark] .colab-df-convert:hover {\n",
              "      background-color: #434B5C;\n",
              "      box-shadow: 0px 1px 3px 1px rgba(0, 0, 0, 0.15);\n",
              "      filter: drop-shadow(0px 1px 2px rgba(0, 0, 0, 0.3));\n",
              "      fill: #FFFFFF;\n",
              "    }\n",
              "  </style>\n",
              "\n",
              "      <script>\n",
              "        const buttonEl =\n",
              "          document.querySelector('#df-cb6afa9f-9a7b-404f-aa9b-73af6a36ca7e button.colab-df-convert');\n",
              "        buttonEl.style.display =\n",
              "          google.colab.kernel.accessAllowed ? 'block' : 'none';\n",
              "\n",
              "        async function convertToInteractive(key) {\n",
              "          const element = document.querySelector('#df-cb6afa9f-9a7b-404f-aa9b-73af6a36ca7e');\n",
              "          const dataTable =\n",
              "            await google.colab.kernel.invokeFunction('convertToInteractive',\n",
              "                                                     [key], {});\n",
              "          if (!dataTable) return;\n",
              "\n",
              "          const docLinkHtml = 'Like what you see? Visit the ' +\n",
              "            '<a target=\"_blank\" href=https://colab.research.google.com/notebooks/data_table.ipynb>data table notebook</a>'\n",
              "            + ' to learn more about interactive tables.';\n",
              "          element.innerHTML = '';\n",
              "          dataTable['output_type'] = 'display_data';\n",
              "          await google.colab.output.renderOutput(dataTable, element);\n",
              "          const docLink = document.createElement('div');\n",
              "          docLink.innerHTML = docLinkHtml;\n",
              "          element.appendChild(docLink);\n",
              "        }\n",
              "      </script>\n",
              "    </div>\n",
              "  </div>\n",
              "  "
            ]
          },
          "metadata": {},
          "execution_count": 32
        }
      ]
    },
    {
      "cell_type": "code",
      "source": [
        "X['EJ'].replace(to_replace=['A','B'],value=[0,1],inplace=True)\n",
        "X = X.astype(float)"
      ],
      "metadata": {
        "id": "SLK_ag8jhTHV"
      },
      "execution_count": 33,
      "outputs": []
    },
    {
      "cell_type": "code",
      "source": [
        "y = data.drop(X,axis=1)\n",
        "y = y.drop(['Id'],axis=1)"
      ],
      "metadata": {
        "id": "1FcNbisodLM-"
      },
      "execution_count": 34,
      "outputs": []
    },
    {
      "cell_type": "code",
      "source": [
        "X_train, X_test, y_train, y_test = train_test_split(X,y,shuffle=True,test_size=0.2,random_state=4)"
      ],
      "metadata": {
        "id": "n9hxOYfpdWV5"
      },
      "execution_count": 35,
      "outputs": []
    },
    {
      "cell_type": "code",
      "source": [
        "X.info()"
      ],
      "metadata": {
        "colab": {
          "base_uri": "https://localhost:8080/"
        },
        "id": "X9G-OOVkfLoO",
        "outputId": "ee7aa167-fdb8-49f1-e825-8ebcbeca60d7"
      },
      "execution_count": 36,
      "outputs": [
        {
          "output_type": "stream",
          "name": "stdout",
          "text": [
            "<class 'pandas.core.frame.DataFrame'>\n",
            "RangeIndex: 617 entries, 0 to 616\n",
            "Data columns (total 56 columns):\n",
            " #   Column  Non-Null Count  Dtype  \n",
            "---  ------  --------------  -----  \n",
            " 0   AB      617 non-null    float64\n",
            " 1   AF      617 non-null    float64\n",
            " 2   AH      617 non-null    float64\n",
            " 3   AM      617 non-null    float64\n",
            " 4   AR      617 non-null    float64\n",
            " 5   AX      617 non-null    float64\n",
            " 6   AY      617 non-null    float64\n",
            " 7   AZ      617 non-null    float64\n",
            " 8   BC      617 non-null    float64\n",
            " 9   BD      617 non-null    float64\n",
            " 10  BN      617 non-null    float64\n",
            " 11  BP      617 non-null    float64\n",
            " 12  BQ      557 non-null    float64\n",
            " 13  BR      617 non-null    float64\n",
            " 14  BZ      617 non-null    float64\n",
            " 15  CB      615 non-null    float64\n",
            " 16  CC      614 non-null    float64\n",
            " 17  CD      617 non-null    float64\n",
            " 18  CF      617 non-null    float64\n",
            " 19  CH      617 non-null    float64\n",
            " 20  CL      617 non-null    float64\n",
            " 21  CR      617 non-null    float64\n",
            " 22  CS      617 non-null    float64\n",
            " 23  CU      617 non-null    float64\n",
            " 24  CW      617 non-null    float64\n",
            " 25  DA      617 non-null    float64\n",
            " 26  DE      617 non-null    float64\n",
            " 27  DF      617 non-null    float64\n",
            " 28  DH      617 non-null    float64\n",
            " 29  DI      617 non-null    float64\n",
            " 30  DL      617 non-null    float64\n",
            " 31  DN      617 non-null    float64\n",
            " 32  DU      616 non-null    float64\n",
            " 33  DV      617 non-null    float64\n",
            " 34  DY      617 non-null    float64\n",
            " 35  EB      617 non-null    float64\n",
            " 36  EE      617 non-null    float64\n",
            " 37  EG      617 non-null    float64\n",
            " 38  EH      617 non-null    float64\n",
            " 39  EJ      617 non-null    float64\n",
            " 40  EL      557 non-null    float64\n",
            " 41  EP      617 non-null    float64\n",
            " 42  EU      617 non-null    float64\n",
            " 43  FC      616 non-null    float64\n",
            " 44  FD      617 non-null    float64\n",
            " 45  FE      617 non-null    float64\n",
            " 46  FI      617 non-null    float64\n",
            " 47  FL      616 non-null    float64\n",
            " 48  FR      617 non-null    float64\n",
            " 49  FS      615 non-null    float64\n",
            " 50  GB      617 non-null    float64\n",
            " 51  GE      617 non-null    float64\n",
            " 52  GF      617 non-null    float64\n",
            " 53  GH      617 non-null    float64\n",
            " 54  GI      617 non-null    float64\n",
            " 55  GL      616 non-null    float64\n",
            "dtypes: float64(56)\n",
            "memory usage: 270.1 KB\n"
          ]
        }
      ]
    },
    {
      "cell_type": "markdown",
      "source": [
        "# Preprocessing"
      ],
      "metadata": {
        "id": "wm7Qr8FbcELM"
      }
    },
    {
      "cell_type": "markdown",
      "source": [
        "## Imputation\n",
        "\n",
        "SimpleImputer\n",
        "KNN Imputer\n",
        "Iterative Imputer"
      ],
      "metadata": {
        "id": "Ff4lGz4uh9Rr"
      }
    },
    {
      "cell_type": "code",
      "source": [
        "imputer = SimpleImputer(missing_values=np.nan,strategy='mean')\n",
        "imputer.fit(X_train)\n",
        "X_train = imputer.transform(X_train)\n",
        "X_test = imputer.transform(X_test)"
      ],
      "metadata": {
        "id": "hTyvWwlAgeo4"
      },
      "execution_count": 37,
      "outputs": []
    },
    {
      "cell_type": "markdown",
      "source": [
        "## Scaling\n"
      ],
      "metadata": {
        "id": "Gu278GL7iIGr"
      }
    },
    {
      "cell_type": "code",
      "source": [
        "# scaler = StandardScaler()\n",
        "# X_train = scaler.fit_transform(X_train)\n",
        "# X_test = scaler.transform(X_test)"
      ],
      "metadata": {
        "id": "nmIVnaKJTuXg"
      },
      "execution_count": 38,
      "outputs": []
    },
    {
      "cell_type": "code",
      "source": [
        "# scaler = MaxAbsScaler()\n",
        "# X_train = scaler.fit_transform(X_train)\n",
        "# X_test = scaler.transform(X_test)"
      ],
      "metadata": {
        "id": "pTT-pZBddMMT"
      },
      "execution_count": 39,
      "outputs": []
    },
    {
      "cell_type": "code",
      "source": [
        "# scaler = MinMaxScaler()\n",
        "# X_train = scaler.fit_transform(X_train)\n",
        "# X_test = scaler.transform(X_test)"
      ],
      "metadata": {
        "id": "vFl9c66IfShO"
      },
      "execution_count": 40,
      "outputs": []
    },
    {
      "cell_type": "code",
      "source": [
        "# scaler = RobustScaler(quantile_range=(40.0,60.0))\n",
        "# X_train = scaler.fit_transform(X_train)\n",
        "# X_test = scaler.transform(X_test)"
      ],
      "metadata": {
        "id": "xiksi7Gif_Rx"
      },
      "execution_count": 41,
      "outputs": []
    },
    {
      "cell_type": "code",
      "source": [
        "# scaler = PowerTransformer()\n",
        "# X_train = scaler.fit_transform(X_train)\n",
        "# X_test = scaler.transform(X_test)"
      ],
      "metadata": {
        "id": "Ck4f9e-ehFO9"
      },
      "execution_count": 42,
      "outputs": []
    },
    {
      "cell_type": "code",
      "source": [
        "poly = PolynomialFeatures(degree=2)\n",
        "X_train = poly.fit_transform(X_train)\n",
        "X_test = poly.transform(X_test)"
      ],
      "metadata": {
        "id": "gNZxgm0WiU5m"
      },
      "execution_count": 43,
      "outputs": []
    },
    {
      "cell_type": "code",
      "source": [
        "pca = PCA(whiten=False,random_state=56)\n",
        "pca.fit(X_train)\n",
        "pca.explained_variance_ratio_ * 100"
      ],
      "metadata": {
        "colab": {
          "base_uri": "https://localhost:8080/"
        },
        "id": "6a3dViEcUFme",
        "outputId": "479bbcea-e6e9-444a-a577-0a5b213778f6"
      },
      "execution_count": 44,
      "outputs": [
        {
          "output_type": "execute_result",
          "data": {
            "text/plain": [
              "array([4.52320296e+01, 3.27649350e+01, 1.99566827e+01, 9.15670970e-01,\n",
              "       8.51844478e-01, 9.31064172e-02, 5.29557848e-02, 3.92022714e-02,\n",
              "       3.30974088e-02, 2.17160788e-02, 1.05936413e-02, 6.90465594e-03,\n",
              "       6.13510894e-03, 4.60763961e-03, 2.27139972e-03, 1.58028899e-03,\n",
              "       1.08934261e-03, 8.66800365e-04, 7.38030994e-04, 6.95585307e-04,\n",
              "       5.99848297e-04, 4.28983317e-04, 4.17196590e-04, 3.77039607e-04,\n",
              "       1.97040279e-04, 1.80409271e-04, 1.63124814e-04, 1.13634918e-04,\n",
              "       1.02673616e-04, 9.08929692e-05, 7.21162841e-05, 6.21026389e-05,\n",
              "       4.92223779e-05, 4.56033598e-05, 3.73637627e-05, 3.27071381e-05,\n",
              "       2.79124429e-05, 2.30561227e-05, 2.04127176e-05, 1.98056574e-05,\n",
              "       1.79006756e-05, 1.73474790e-05, 1.50288972e-05, 1.34604388e-05,\n",
              "       1.26444608e-05, 1.23628513e-05, 1.15996294e-05, 9.95746797e-06,\n",
              "       8.89500125e-06, 8.18051936e-06, 7.69642884e-06, 6.88491380e-06,\n",
              "       6.48446625e-06, 5.39722201e-06, 4.71335720e-06, 4.36072231e-06,\n",
              "       3.98478929e-06, 3.46351357e-06, 3.27679090e-06, 2.94652247e-06,\n",
              "       2.74089440e-06, 2.52252519e-06, 2.39454407e-06, 2.22222924e-06,\n",
              "       2.16339897e-06, 1.71152933e-06, 1.50526005e-06, 1.42105978e-06,\n",
              "       1.38414208e-06, 1.26614770e-06, 1.16214181e-06, 1.02294513e-06,\n",
              "       9.94310543e-07, 9.57059281e-07, 8.70551035e-07, 8.47641552e-07,\n",
              "       7.61454813e-07, 7.47587106e-07, 6.84025903e-07, 6.61699232e-07,\n",
              "       5.93884726e-07, 5.73021075e-07, 5.37389471e-07, 4.94410231e-07,\n",
              "       4.62554803e-07, 4.41330686e-07, 4.30984840e-07, 4.08005149e-07,\n",
              "       3.83340419e-07, 3.58852993e-07, 3.37761150e-07, 3.14775222e-07,\n",
              "       2.92688131e-07, 2.77543617e-07, 2.55495855e-07, 2.51489967e-07,\n",
              "       2.30333236e-07, 2.15870285e-07, 2.08769821e-07, 1.99218323e-07,\n",
              "       1.91028601e-07, 1.75994548e-07, 1.60092842e-07, 1.58537848e-07,\n",
              "       1.52293921e-07, 1.46846969e-07, 1.36406717e-07, 1.28639955e-07,\n",
              "       1.27188985e-07, 1.19253667e-07, 1.10870307e-07, 1.08928824e-07,\n",
              "       9.95780806e-08, 8.61887118e-08, 8.47134699e-08, 8.03924510e-08,\n",
              "       7.98831967e-08, 7.42748074e-08, 6.65813110e-08, 6.47169037e-08,\n",
              "       6.31889261e-08, 5.97674148e-08, 5.57182806e-08, 5.55203218e-08,\n",
              "       5.28310178e-08, 5.03999056e-08, 4.84910683e-08, 4.55585435e-08,\n",
              "       4.27069654e-08, 4.15316740e-08, 3.87774089e-08, 3.73109584e-08,\n",
              "       3.70645528e-08, 3.45551631e-08, 3.16405959e-08, 3.09026775e-08,\n",
              "       3.02534508e-08, 2.95777270e-08, 2.73641835e-08, 2.57498867e-08,\n",
              "       2.46239602e-08, 2.33683373e-08, 2.12267946e-08, 2.10050365e-08,\n",
              "       1.93306378e-08, 1.87252339e-08, 1.84017591e-08, 1.81564871e-08,\n",
              "       1.64633958e-08, 1.58896394e-08, 1.46262357e-08, 1.39320570e-08,\n",
              "       1.30573506e-08, 1.27333555e-08, 1.22597523e-08, 1.19683372e-08,\n",
              "       1.17655932e-08, 1.12088944e-08, 1.10392977e-08, 1.03333845e-08,\n",
              "       9.96938626e-09, 9.57113702e-09, 9.52614906e-09, 9.08874228e-09,\n",
              "       8.86239526e-09, 8.58960844e-09, 8.08561333e-09, 7.95159377e-09,\n",
              "       7.57969848e-09, 7.34094283e-09, 7.21706945e-09, 6.92646111e-09,\n",
              "       6.73241175e-09, 6.41113217e-09, 6.10816662e-09, 5.95169186e-09,\n",
              "       5.67098385e-09, 5.44190690e-09, 5.06104079e-09, 4.92166587e-09,\n",
              "       4.67189607e-09, 4.56906710e-09, 4.52231649e-09, 4.09180636e-09,\n",
              "       4.03464618e-09, 3.90838718e-09, 3.69357729e-09, 3.67144606e-09,\n",
              "       3.53368120e-09, 3.40632552e-09, 3.20477579e-09, 3.11630491e-09,\n",
              "       3.06487732e-09, 2.93457116e-09, 2.80116262e-09, 2.63623583e-09,\n",
              "       2.57340116e-09, 2.53855493e-09, 2.44980042e-09, 2.38314385e-09,\n",
              "       2.28411089e-09, 2.21415084e-09, 2.15599365e-09, 1.97640569e-09,\n",
              "       1.91037745e-09, 1.86532060e-09, 1.80623861e-09, 1.69661380e-09,\n",
              "       1.65800851e-09, 1.58975515e-09, 1.58556714e-09, 1.41739320e-09,\n",
              "       1.38668259e-09, 1.31328373e-09, 1.27146285e-09, 1.26251283e-09,\n",
              "       1.22841194e-09, 1.18726615e-09, 1.14666407e-09, 1.13827159e-09,\n",
              "       1.11985969e-09, 1.04416262e-09, 1.00130931e-09, 9.68080408e-10,\n",
              "       9.10219618e-10, 8.89321829e-10, 8.62274825e-10, 8.25875767e-10,\n",
              "       7.74350759e-10, 7.64029790e-10, 7.62073713e-10, 7.21268330e-10,\n",
              "       6.58720783e-10, 6.41758229e-10, 6.11442674e-10, 6.08636242e-10,\n",
              "       5.85263127e-10, 5.71143525e-10, 5.46908287e-10, 5.27994704e-10,\n",
              "       5.17712241e-10, 5.05410260e-10, 4.89056343e-10, 4.81758159e-10,\n",
              "       4.71712559e-10, 4.64288361e-10, 4.24951624e-10, 4.09816720e-10,\n",
              "       3.97692141e-10, 3.92347505e-10, 3.81415742e-10, 3.60743917e-10,\n",
              "       3.48599758e-10, 3.45762332e-10, 3.36748312e-10, 3.20720839e-10,\n",
              "       2.96903901e-10, 2.85337561e-10, 2.76430612e-10, 2.71071829e-10,\n",
              "       2.63394734e-10, 2.49486564e-10, 2.41058043e-10, 2.34659902e-10,\n",
              "       2.24726673e-10, 2.19023966e-10, 2.08371036e-10, 1.99056303e-10,\n",
              "       1.94122310e-10, 1.87786099e-10, 1.83687972e-10, 1.74925422e-10,\n",
              "       1.72473350e-10, 1.70686692e-10, 1.61923159e-10, 1.59679820e-10,\n",
              "       1.56704798e-10, 1.52229046e-10, 1.50051984e-10, 1.45518533e-10,\n",
              "       1.42981552e-10, 1.37358620e-10, 1.34308153e-10, 1.25584136e-10,\n",
              "       1.22657524e-10, 1.22404190e-10, 1.16232106e-10, 1.12610881e-10,\n",
              "       1.05632825e-10, 1.03424599e-10, 1.01546133e-10, 9.94891741e-11,\n",
              "       9.56959249e-11, 9.27430447e-11, 9.12288788e-11, 8.85882267e-11,\n",
              "       8.60061093e-11, 8.36689983e-11, 7.98591537e-11, 7.89122132e-11,\n",
              "       7.65004756e-11, 7.42590330e-11, 7.21022973e-11, 6.81045779e-11,\n",
              "       6.70783033e-11, 6.53313025e-11, 6.43947641e-11, 6.33995795e-11,\n",
              "       6.23242761e-11, 5.97104850e-11, 5.81013902e-11, 5.54464451e-11,\n",
              "       5.37719818e-11, 5.34696927e-11, 5.05033744e-11, 4.92516818e-11,\n",
              "       4.85280403e-11, 4.61286151e-11, 4.53757246e-11, 4.39420287e-11,\n",
              "       4.26712738e-11, 4.22013160e-11, 3.97210415e-11, 3.93936086e-11,\n",
              "       3.78019743e-11, 3.66446727e-11, 3.58612018e-11, 3.40540028e-11,\n",
              "       3.31276040e-11, 3.15684600e-11, 3.13503261e-11, 3.04672325e-11,\n",
              "       2.83822121e-11, 2.75932781e-11, 2.72861622e-11, 2.67484118e-11,\n",
              "       2.58012632e-11, 2.54136738e-11, 2.44079169e-11, 2.34060539e-11,\n",
              "       2.30400296e-11, 2.20896492e-11, 2.17260434e-11, 2.10189608e-11,\n",
              "       2.08534803e-11, 1.99928555e-11, 1.97237014e-11, 1.93279167e-11,\n",
              "       1.85708629e-11, 1.82335136e-11, 1.81290011e-11, 1.70030001e-11,\n",
              "       1.66291121e-11, 1.61613034e-11, 1.59035845e-11, 1.55592429e-11,\n",
              "       1.53278230e-11, 1.45360108e-11, 1.43335659e-11, 1.33874615e-11,\n",
              "       1.30909498e-11, 1.29822364e-11, 1.27059112e-11, 1.25252411e-11,\n",
              "       1.20275027e-11, 1.14253858e-11, 1.13812766e-11, 1.09641782e-11,\n",
              "       1.07685392e-11, 1.06058494e-11, 1.02530153e-11, 9.76351785e-12,\n",
              "       9.47067264e-12, 8.91051554e-12, 8.82515606e-12, 8.53803746e-12,\n",
              "       8.24653814e-12, 8.05539201e-12, 7.98710280e-12, 7.56258374e-12,\n",
              "       7.37300297e-12, 7.04043235e-12, 6.87918251e-12, 6.60621012e-12,\n",
              "       6.29845706e-12, 6.17991762e-12, 5.93812589e-12, 5.88911766e-12,\n",
              "       5.86738468e-12, 5.53825617e-12, 5.49209742e-12, 5.15368892e-12,\n",
              "       5.09290565e-12, 4.86385088e-12, 4.76052063e-12, 4.65203013e-12,\n",
              "       4.47185565e-12, 4.42286022e-12, 4.18800267e-12, 4.09835526e-12,\n",
              "       4.03202027e-12, 3.91711325e-12, 3.84738832e-12, 3.79747189e-12,\n",
              "       3.55707456e-12, 3.53567632e-12, 3.44265696e-12, 3.35462996e-12,\n",
              "       3.23214213e-12, 3.18109146e-12, 3.06065227e-12, 2.99007572e-12,\n",
              "       2.90912229e-12, 2.83949999e-12, 2.72517534e-12, 2.65947026e-12,\n",
              "       2.56929781e-12, 2.41611016e-12, 2.39150083e-12, 2.29558867e-12,\n",
              "       2.24760544e-12, 2.14301240e-12, 2.09889205e-12, 2.07747091e-12,\n",
              "       2.04451521e-12, 1.92156438e-12, 1.91739965e-12, 1.80289188e-12,\n",
              "       1.75209183e-12, 1.72218472e-12, 1.66786927e-12, 1.61576095e-12,\n",
              "       1.56246904e-12, 1.53584572e-12, 1.46404717e-12, 1.43360891e-12,\n",
              "       1.39507645e-12, 1.36578606e-12, 1.32760921e-12, 1.24254013e-12,\n",
              "       1.23162160e-12, 1.18852793e-12, 1.16766740e-12, 1.12762582e-12,\n",
              "       1.07438270e-12, 1.02982575e-12, 1.00057766e-12, 9.64528914e-13,\n",
              "       9.05607625e-13, 8.85886146e-13, 8.74848276e-13, 8.43992222e-13,\n",
              "       8.31826164e-13, 7.81123952e-13, 7.35582520e-13, 7.18675678e-13,\n",
              "       7.03882656e-13, 6.75151081e-13, 6.48236626e-13, 6.40185669e-13,\n",
              "       6.28940316e-13, 5.94846582e-13, 5.90537698e-13, 5.66706177e-13,\n",
              "       5.61876453e-13, 5.31595048e-13, 5.05117907e-13, 4.89078147e-13,\n",
              "       4.65168168e-13, 4.39866015e-13, 4.17112005e-13, 3.95376305e-13,\n",
              "       3.80600032e-13, 3.68756046e-13, 3.57458816e-13, 3.44843851e-13,\n",
              "       3.36649950e-13, 2.97727274e-13, 2.95548041e-13, 2.73038544e-13,\n",
              "       2.62542226e-13, 2.54121949e-13, 2.33761362e-13, 2.26749111e-13,\n",
              "       2.05557928e-13, 1.92472819e-13, 1.71707534e-13, 1.68146439e-13,\n",
              "       1.52271758e-13, 1.35325810e-13, 1.26851542e-13, 1.16824401e-13,\n",
              "       8.12365561e-33])"
            ]
          },
          "metadata": {},
          "execution_count": 44
        }
      ]
    },
    {
      "cell_type": "markdown",
      "source": [
        "# Algorithm"
      ],
      "metadata": {
        "id": "3oO3BkElVEVd"
      }
    },
    {
      "cell_type": "code",
      "source": [
        "logreg = LogisticRegression(C=0.75,random_state=57,solver='liblinear')\n",
        "logreg.fit(X_train,y_train)\n",
        "print(logreg.score(X_train,y_train))\n",
        "print(logreg.score(X_test,y_test))"
      ],
      "metadata": {
        "colab": {
          "base_uri": "https://localhost:8080/"
        },
        "id": "zsri4GnPU3oy",
        "outputId": "269e48bf-5e3d-4357-985b-f4c11eb59856"
      },
      "execution_count": 45,
      "outputs": [
        {
          "output_type": "stream",
          "name": "stderr",
          "text": [
            "/usr/local/lib/python3.10/dist-packages/sklearn/utils/validation.py:1143: DataConversionWarning: A column-vector y was passed when a 1d array was expected. Please change the shape of y to (n_samples, ), for example using ravel().\n",
            "  y = column_or_1d(y, warn=True)\n"
          ]
        },
        {
          "output_type": "stream",
          "name": "stdout",
          "text": [
            "0.896551724137931\n",
            "0.9032258064516129\n"
          ]
        },
        {
          "output_type": "stream",
          "name": "stderr",
          "text": [
            "/usr/local/lib/python3.10/dist-packages/sklearn/svm/_base.py:1244: ConvergenceWarning: Liblinear failed to converge, increase the number of iterations.\n",
            "  warnings.warn(\n"
          ]
        }
      ]
    },
    {
      "cell_type": "code",
      "source": [
        "supvm = SVC(C=0.1,kernel='poly',degree=4,random_state=67)\n",
        "supvm.fit(X_train,y_train)\n",
        "print(supvm.score(X_train,y_train))\n",
        "print(supvm.score(X_test,y_test))"
      ],
      "metadata": {
        "colab": {
          "base_uri": "https://localhost:8080/"
        },
        "id": "ujM_c7lxVedT",
        "outputId": "ded715f4-f53f-4b67-f5bf-3ba36ccf82d5"
      },
      "execution_count": 46,
      "outputs": [
        {
          "output_type": "stream",
          "name": "stderr",
          "text": [
            "/usr/local/lib/python3.10/dist-packages/sklearn/utils/validation.py:1143: DataConversionWarning: A column-vector y was passed when a 1d array was expected. Please change the shape of y to (n_samples, ), for example using ravel().\n",
            "  y = column_or_1d(y, warn=True)\n"
          ]
        },
        {
          "output_type": "stream",
          "name": "stdout",
          "text": [
            "0.8275862068965517\n",
            "0.8548387096774194\n"
          ]
        }
      ]
    },
    {
      "cell_type": "code",
      "source": [
        "knn = KNeighborsClassifier(n_neighbors=50,p=1)\n",
        "knn.fit(X_train,y_train)\n",
        "print(knn.score(X_train,y_train))\n",
        "print(knn.score(X_test,y_test))"
      ],
      "metadata": {
        "colab": {
          "base_uri": "https://localhost:8080/"
        },
        "id": "whMv6_dWW5bk",
        "outputId": "526ab3d2-c94f-4595-ea42-1968ea2f9dee"
      },
      "execution_count": 47,
      "outputs": [
        {
          "output_type": "stream",
          "name": "stderr",
          "text": [
            "/usr/local/lib/python3.10/dist-packages/sklearn/neighbors/_classification.py:215: DataConversionWarning: A column-vector y was passed when a 1d array was expected. Please change the shape of y to (n_samples,), for example using ravel().\n",
            "  return self._fit(X, y)\n"
          ]
        },
        {
          "output_type": "stream",
          "name": "stdout",
          "text": [
            "0.8174442190669371\n",
            "0.8548387096774194\n"
          ]
        }
      ]
    },
    {
      "cell_type": "code",
      "source": [
        "dtree = DecisionTreeClassifier(criterion='entropy',random_state=200,ccp_alpha=1)\n",
        "dtree.fit(X_train,y_train)\n",
        "print(dtree.score(X_train,y_train))\n",
        "print(dtree.score(X_test,y_test))"
      ],
      "metadata": {
        "colab": {
          "base_uri": "https://localhost:8080/"
        },
        "id": "MoY-K3HAXqg0",
        "outputId": "3689bba7-a47a-42d6-8974-acb56e2a1d5e"
      },
      "execution_count": 48,
      "outputs": [
        {
          "output_type": "stream",
          "name": "stdout",
          "text": [
            "0.8174442190669371\n",
            "0.8548387096774194\n"
          ]
        }
      ]
    },
    {
      "cell_type": "code",
      "source": [
        "rfc = RandomForestClassifier(criterion='gini',ccp_alpha=1)\n",
        "rfc.fit(X_train,y_train)\n",
        "print(rfc.score(X_train,y_train))\n",
        "print(rfc.score(X_test,y_test))"
      ],
      "metadata": {
        "colab": {
          "base_uri": "https://localhost:8080/"
        },
        "id": "Ss9OXewgZO67",
        "outputId": "cfa8a849-6095-48a7-bedf-ec69b9837cdc"
      },
      "execution_count": 49,
      "outputs": [
        {
          "output_type": "stream",
          "name": "stderr",
          "text": [
            "<ipython-input-49-217250925ba4>:2: DataConversionWarning: A column-vector y was passed when a 1d array was expected. Please change the shape of y to (n_samples,), for example using ravel().\n",
            "  rfc.fit(X_train,y_train)\n"
          ]
        },
        {
          "output_type": "stream",
          "name": "stdout",
          "text": [
            "0.8174442190669371\n",
            "0.8548387096774194\n"
          ]
        }
      ]
    },
    {
      "cell_type": "code",
      "source": [
        "kmeans = KMeans(n_clusters = 2)\n",
        "kmeans.fit(X_train,y_train)\n",
        "print(kmeans.score(X_train,y_train))\n",
        "print(kmeans.score(X_test,y_test))"
      ],
      "metadata": {
        "colab": {
          "base_uri": "https://localhost:8080/"
        },
        "id": "PaDyOokCbj3o",
        "outputId": "082099cb-1b17-4b48-fe5a-ca09623bb383"
      },
      "execution_count": 50,
      "outputs": [
        {
          "output_type": "stream",
          "name": "stderr",
          "text": [
            "/usr/local/lib/python3.10/dist-packages/sklearn/cluster/_kmeans.py:870: FutureWarning: The default value of `n_init` will change from 10 to 'auto' in 1.4. Set the value of `n_init` explicitly to suppress the warning\n",
            "  warnings.warn(\n"
          ]
        },
        {
          "output_type": "stream",
          "name": "stdout",
          "text": [
            "-2.1619570933868855e+21\n",
            "-1.480360295252501e+20\n"
          ]
        }
      ]
    },
    {
      "cell_type": "code",
      "source": [
        "kmeans.predict(X_test)"
      ],
      "metadata": {
        "colab": {
          "base_uri": "https://localhost:8080/"
        },
        "id": "DAf3_rJneG9r",
        "outputId": "5c65552f-aa42-4c60-90a1-6f37e6b1fa46"
      },
      "execution_count": 51,
      "outputs": [
        {
          "output_type": "execute_result",
          "data": {
            "text/plain": [
              "array([0, 0, 0, 0, 0, 0, 0, 0, 0, 0, 0, 1, 0, 0, 0, 0, 0, 0, 0, 0, 0, 1,\n",
              "       0, 0, 0, 0, 0, 0, 0, 0, 0, 0, 0, 0, 0, 0, 0, 0, 0, 0, 0, 0, 0, 0,\n",
              "       0, 0, 0, 0, 0, 0, 0, 0, 0, 0, 0, 0, 0, 1, 0, 0, 0, 0, 0, 0, 0, 0,\n",
              "       0, 0, 0, 0, 0, 0, 0, 0, 0, 0, 0, 0, 0, 0, 0, 0, 0, 0, 0, 0, 0, 0,\n",
              "       0, 0, 0, 0, 0, 0, 0, 0, 0, 0, 0, 0, 0, 0, 0, 0, 0, 0, 0, 0, 0, 0,\n",
              "       0, 0, 0, 0, 0, 0, 0, 0, 0, 0, 0, 0, 0, 0], dtype=int32)"
            ]
          },
          "metadata": {},
          "execution_count": 51
        }
      ]
    },
    {
      "cell_type": "code",
      "source": [
        "print(classification_report(y_test,kmeans.predict(X_test)))"
      ],
      "metadata": {
        "colab": {
          "base_uri": "https://localhost:8080/"
        },
        "id": "fY742lsGeS4k",
        "outputId": "73556c1a-36fa-4555-d099-72766eeb9948"
      },
      "execution_count": 52,
      "outputs": [
        {
          "output_type": "stream",
          "name": "stdout",
          "text": [
            "              precision    recall  f1-score   support\n",
            "\n",
            "           0       0.86      0.98      0.92       106\n",
            "           1       0.33      0.06      0.10        18\n",
            "\n",
            "    accuracy                           0.85       124\n",
            "   macro avg       0.60      0.52      0.51       124\n",
            "weighted avg       0.78      0.85      0.80       124\n",
            "\n"
          ]
        }
      ]
    },
    {
      "cell_type": "markdown",
      "source": [
        "# X scaler and Y Algorithm are best performing for this data"
      ],
      "metadata": {
        "id": "6XByquLVq4kK"
      }
    }
  ]
}